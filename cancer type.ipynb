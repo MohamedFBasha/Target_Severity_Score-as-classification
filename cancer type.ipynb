{
 "cells": [
  {
   "cell_type": "code",
   "execution_count": 1,
   "id": "d7df5302-4c4e-42bf-b75b-0335af363030",
   "metadata": {},
   "outputs": [],
   "source": [
    "# Libraries\n",
    "import pandas as pd\n",
    "import numpy as np\n",
    "\n",
    "from sklearn.model_selection import train_test_split\n",
    "from sklearn.preprocessing import StandardScaler, LabelEncoder\n",
    "from sklearn.metrics import accuracy_score, classification_report, confusion_matrix\n",
    "\n",
    "from sklearn.ensemble import RandomForestClassifier, GradientBoostingClassifier\n",
    "from sklearn.linear_model import LogisticRegression\n",
    "from sklearn.svm import SVC\n",
    "from sklearn.neighbors import KNeighborsClassifier\n",
    "from sklearn.tree import DecisionTreeClassifier\n"
   ]
  },
  {
   "cell_type": "code",
   "execution_count": 2,
   "id": "42967180-37c1-4f46-ae61-1c5f3cde9561",
   "metadata": {},
   "outputs": [
    {
     "data": {
      "text/html": [
       "<div>\n",
       "<style scoped>\n",
       "    .dataframe tbody tr th:only-of-type {\n",
       "        vertical-align: middle;\n",
       "    }\n",
       "\n",
       "    .dataframe tbody tr th {\n",
       "        vertical-align: top;\n",
       "    }\n",
       "\n",
       "    .dataframe thead th {\n",
       "        text-align: right;\n",
       "    }\n",
       "</style>\n",
       "<table border=\"1\" class=\"dataframe\">\n",
       "  <thead>\n",
       "    <tr style=\"text-align: right;\">\n",
       "      <th></th>\n",
       "      <th>Patient_ID</th>\n",
       "      <th>Age</th>\n",
       "      <th>Gender</th>\n",
       "      <th>Country_Region</th>\n",
       "      <th>Year</th>\n",
       "      <th>Genetic_Risk</th>\n",
       "      <th>Air_Pollution</th>\n",
       "      <th>Alcohol_Use</th>\n",
       "      <th>Smoking</th>\n",
       "      <th>Obesity_Level</th>\n",
       "      <th>Cancer_Type</th>\n",
       "      <th>Cancer_Stage</th>\n",
       "      <th>Treatment_Cost_USD</th>\n",
       "      <th>Survival_Years</th>\n",
       "      <th>Target_Severity_Score</th>\n",
       "    </tr>\n",
       "  </thead>\n",
       "  <tbody>\n",
       "    <tr>\n",
       "      <th>0</th>\n",
       "      <td>PT0000000</td>\n",
       "      <td>71</td>\n",
       "      <td>Male</td>\n",
       "      <td>UK</td>\n",
       "      <td>2021</td>\n",
       "      <td>6.4</td>\n",
       "      <td>2.8</td>\n",
       "      <td>9.5</td>\n",
       "      <td>0.9</td>\n",
       "      <td>8.7</td>\n",
       "      <td>Lung</td>\n",
       "      <td>Stage III</td>\n",
       "      <td>62913.44</td>\n",
       "      <td>5.9</td>\n",
       "      <td>4.92</td>\n",
       "    </tr>\n",
       "    <tr>\n",
       "      <th>1</th>\n",
       "      <td>PT0000001</td>\n",
       "      <td>34</td>\n",
       "      <td>Male</td>\n",
       "      <td>China</td>\n",
       "      <td>2021</td>\n",
       "      <td>1.3</td>\n",
       "      <td>4.5</td>\n",
       "      <td>3.7</td>\n",
       "      <td>3.9</td>\n",
       "      <td>6.3</td>\n",
       "      <td>Leukemia</td>\n",
       "      <td>Stage 0</td>\n",
       "      <td>12573.41</td>\n",
       "      <td>4.7</td>\n",
       "      <td>4.65</td>\n",
       "    </tr>\n",
       "    <tr>\n",
       "      <th>2</th>\n",
       "      <td>PT0000002</td>\n",
       "      <td>80</td>\n",
       "      <td>Male</td>\n",
       "      <td>Pakistan</td>\n",
       "      <td>2023</td>\n",
       "      <td>7.4</td>\n",
       "      <td>7.9</td>\n",
       "      <td>2.4</td>\n",
       "      <td>4.7</td>\n",
       "      <td>0.1</td>\n",
       "      <td>Breast</td>\n",
       "      <td>Stage II</td>\n",
       "      <td>6984.33</td>\n",
       "      <td>7.1</td>\n",
       "      <td>5.84</td>\n",
       "    </tr>\n",
       "    <tr>\n",
       "      <th>3</th>\n",
       "      <td>PT0000003</td>\n",
       "      <td>40</td>\n",
       "      <td>Male</td>\n",
       "      <td>UK</td>\n",
       "      <td>2015</td>\n",
       "      <td>1.7</td>\n",
       "      <td>2.9</td>\n",
       "      <td>4.8</td>\n",
       "      <td>3.5</td>\n",
       "      <td>2.7</td>\n",
       "      <td>Colon</td>\n",
       "      <td>Stage I</td>\n",
       "      <td>67446.25</td>\n",
       "      <td>1.6</td>\n",
       "      <td>3.12</td>\n",
       "    </tr>\n",
       "    <tr>\n",
       "      <th>4</th>\n",
       "      <td>PT0000004</td>\n",
       "      <td>43</td>\n",
       "      <td>Female</td>\n",
       "      <td>Brazil</td>\n",
       "      <td>2017</td>\n",
       "      <td>5.1</td>\n",
       "      <td>2.8</td>\n",
       "      <td>2.3</td>\n",
       "      <td>6.7</td>\n",
       "      <td>0.5</td>\n",
       "      <td>Skin</td>\n",
       "      <td>Stage III</td>\n",
       "      <td>77977.12</td>\n",
       "      <td>2.9</td>\n",
       "      <td>3.62</td>\n",
       "    </tr>\n",
       "  </tbody>\n",
       "</table>\n",
       "</div>"
      ],
      "text/plain": [
       "  Patient_ID  Age  Gender Country_Region  Year  Genetic_Risk  Air_Pollution  \\\n",
       "0  PT0000000   71    Male             UK  2021           6.4            2.8   \n",
       "1  PT0000001   34    Male          China  2021           1.3            4.5   \n",
       "2  PT0000002   80    Male       Pakistan  2023           7.4            7.9   \n",
       "3  PT0000003   40    Male             UK  2015           1.7            2.9   \n",
       "4  PT0000004   43  Female         Brazil  2017           5.1            2.8   \n",
       "\n",
       "   Alcohol_Use  Smoking  Obesity_Level Cancer_Type Cancer_Stage  \\\n",
       "0          9.5      0.9            8.7        Lung    Stage III   \n",
       "1          3.7      3.9            6.3    Leukemia      Stage 0   \n",
       "2          2.4      4.7            0.1      Breast     Stage II   \n",
       "3          4.8      3.5            2.7       Colon      Stage I   \n",
       "4          2.3      6.7            0.5        Skin    Stage III   \n",
       "\n",
       "   Treatment_Cost_USD  Survival_Years  Target_Severity_Score  \n",
       "0            62913.44             5.9                   4.92  \n",
       "1            12573.41             4.7                   4.65  \n",
       "2             6984.33             7.1                   5.84  \n",
       "3            67446.25             1.6                   3.12  \n",
       "4            77977.12             2.9                   3.62  "
      ]
     },
     "execution_count": 2,
     "metadata": {},
     "output_type": "execute_result"
    }
   ],
   "source": [
    "import pandas as pd\n",
    "\n",
    "# Load data from CSV\n",
    "file_path = \"E:/DEPI/tasks/seployment assignment/Target_Severity_Score as classification/global_cancer_patients_2015_2024.csv\"  # حط هنا مسار الملف\n",
    "df = pd.read_csv(file_path)\n",
    "\n",
    "df.head()"
   ]
  },
  {
   "cell_type": "code",
   "execution_count": 3,
   "id": "94b6985a-2934-451c-a2b9-27b621bb0292",
   "metadata": {},
   "outputs": [
    {
     "name": "stdout",
     "output_type": "stream",
     "text": [
      "<class 'pandas.core.frame.DataFrame'>\n",
      "RangeIndex: 50000 entries, 0 to 49999\n",
      "Data columns (total 15 columns):\n",
      " #   Column                 Non-Null Count  Dtype  \n",
      "---  ------                 --------------  -----  \n",
      " 0   Patient_ID             50000 non-null  object \n",
      " 1   Age                    50000 non-null  int64  \n",
      " 2   Gender                 50000 non-null  object \n",
      " 3   Country_Region         50000 non-null  object \n",
      " 4   Year                   50000 non-null  int64  \n",
      " 5   Genetic_Risk           50000 non-null  float64\n",
      " 6   Air_Pollution          50000 non-null  float64\n",
      " 7   Alcohol_Use            50000 non-null  float64\n",
      " 8   Smoking                50000 non-null  float64\n",
      " 9   Obesity_Level          50000 non-null  float64\n",
      " 10  Cancer_Type            50000 non-null  object \n",
      " 11  Cancer_Stage           50000 non-null  object \n",
      " 12  Treatment_Cost_USD     50000 non-null  float64\n",
      " 13  Survival_Years         50000 non-null  float64\n",
      " 14  Target_Severity_Score  50000 non-null  float64\n",
      "dtypes: float64(8), int64(2), object(5)\n",
      "memory usage: 5.7+ MB\n"
     ]
    }
   ],
   "source": [
    "df.info()"
   ]
  },
  {
   "cell_type": "code",
   "execution_count": 4,
   "id": "c84efdaa-854c-455c-8455-81d9c7f1246e",
   "metadata": {},
   "outputs": [
    {
     "data": {
      "text/plain": [
       "Index(['Patient_ID', 'Age', 'Gender', 'Country_Region', 'Year', 'Genetic_Risk',\n",
       "       'Air_Pollution', 'Alcohol_Use', 'Smoking', 'Obesity_Level',\n",
       "       'Cancer_Type', 'Cancer_Stage', 'Treatment_Cost_USD', 'Survival_Years',\n",
       "       'Target_Severity_Score'],\n",
       "      dtype='object')"
      ]
     },
     "execution_count": 4,
     "metadata": {},
     "output_type": "execute_result"
    }
   ],
   "source": [
    "df.columns"
   ]
  },
  {
   "cell_type": "code",
   "execution_count": 5,
   "id": "7669c8ee-31c2-4eaa-9865-42d0b54dc8f6",
   "metadata": {},
   "outputs": [
    {
     "name": "stdout",
     "output_type": "stream",
     "text": [
      "Object columns: Index(['Patient_ID', 'Gender', 'Country_Region', 'Cancer_Type',\n",
      "       'Cancer_Stage'],\n",
      "      dtype='object')\n",
      "\n",
      "Column: Patient_ID\n",
      "['PT0000000' 'PT0000001' 'PT0000002' ... 'PT0049997' 'PT0049998'\n",
      " 'PT0049999']\n",
      "\n",
      "Column: Gender\n",
      "['Male' 'Female' 'Other']\n",
      "\n",
      "Column: Country_Region\n",
      "['UK' 'China' 'Pakistan' 'Brazil' 'Germany' 'Canada' 'USA' 'India'\n",
      " 'Australia' 'Russia']\n",
      "\n",
      "Column: Cancer_Type\n",
      "['Lung' 'Leukemia' 'Breast' 'Colon' 'Skin' 'Cervical' 'Prostate' 'Liver']\n",
      "\n",
      "Column: Cancer_Stage\n",
      "['Stage III' 'Stage 0' 'Stage II' 'Stage I' 'Stage IV']\n"
     ]
    }
   ],
   "source": [
    "import pandas as pd\n",
    "\n",
    "# افترض الداتا محملة في df\n",
    "\n",
    "# تحديد الأعمدة من نوع object\n",
    "obj_columns = df.select_dtypes(include='object').columns\n",
    "print(\"Object columns:\", obj_columns)\n",
    "\n",
    "# عرض القيم الفريدة لكل عمود\n",
    "for col in obj_columns:\n",
    "    unique_values = df[col].unique()\n",
    "    print(f\"\\nColumn: {col}\")\n",
    "    print(unique_values)\n"
   ]
  },
  {
   "cell_type": "code",
   "execution_count": 6,
   "id": "aed863f9-a9fc-4ca4-b282-518ca2512127",
   "metadata": {},
   "outputs": [
    {
     "name": "stdout",
     "output_type": "stream",
     "text": [
      "['Male' 'Female' 'Other']\n"
     ]
    }
   ],
   "source": [
    "def fix_gender(row):\n",
    "    if row['Gender'] != 'Other':\n",
    "        return row['Gender']\n",
    "    # قواعد تحديد الجنس حسب نوع السرطان\n",
    "    if row['Cancer_Type'] in ['Breast', 'Cervical']:\n",
    "        return 'Female'\n",
    "    elif row['Cancer_Type'] in ['Prostate']:\n",
    "        return 'Male'\n",
    "    else:\n",
    "        return 'Other'  # لو مش عايز تغير الباقي\n",
    "\n",
    "df['Gender'] = df.apply(fix_gender, axis=1)\n",
    "\n",
    "# التأكد\n",
    "print(df['Gender'].unique())\n"
   ]
  },
  {
   "cell_type": "code",
   "execution_count": 7,
   "id": "81aa899b-11ff-48d8-82c3-08be84c6239c",
   "metadata": {},
   "outputs": [],
   "source": [
    "df = df.drop(['Patient_ID','Age', 'Year'], axis=1)\n"
   ]
  },
  {
   "cell_type": "code",
   "execution_count": 8,
   "id": "19b406e4-513e-4c41-b518-22c688928660",
   "metadata": {},
   "outputs": [],
   "source": [
    "import pandas as pd\n",
    "\n",
    "# مثال على DataFrame\n",
    "# df = pd.read_csv(\"your_file.csv\")\n",
    "\n",
    "def convert_score(value):\n",
    "    if value < 3:\n",
    "        return 0\n",
    "    elif value < 6:\n",
    "        return 1\n",
    "    elif value < 10:\n",
    "        return 2\n",
    "\n",
    "df[\"Target_Severity_Score\"] = df[\"Target_Severity_Score\"].apply(convert_score)\n"
   ]
  },
  {
   "cell_type": "code",
   "execution_count": 9,
   "id": "b40a3bf0-b835-4a13-a599-720b0f061234",
   "metadata": {},
   "outputs": [
    {
     "data": {
      "text/plain": [
       "0    1\n",
       "1    1\n",
       "2    1\n",
       "3    1\n",
       "4    1\n",
       "Name: Target_Severity_Score, dtype: int64"
      ]
     },
     "execution_count": 9,
     "metadata": {},
     "output_type": "execute_result"
    }
   ],
   "source": [
    "df[\"Target_Severity_Score\"].head()"
   ]
  },
  {
   "cell_type": "code",
   "execution_count": 10,
   "id": "3f9d32d0-d194-4b3b-8ec9-d9ca8426a1d7",
   "metadata": {},
   "outputs": [
    {
     "name": "stdout",
     "output_type": "stream",
     "text": [
      "<class 'pandas.core.frame.DataFrame'>\n",
      "RangeIndex: 50000 entries, 0 to 49999\n",
      "Data columns (total 12 columns):\n",
      " #   Column                 Non-Null Count  Dtype  \n",
      "---  ------                 --------------  -----  \n",
      " 0   Gender                 50000 non-null  object \n",
      " 1   Country_Region         50000 non-null  object \n",
      " 2   Genetic_Risk           50000 non-null  float64\n",
      " 3   Air_Pollution          50000 non-null  float64\n",
      " 4   Alcohol_Use            50000 non-null  float64\n",
      " 5   Smoking                50000 non-null  float64\n",
      " 6   Obesity_Level          50000 non-null  float64\n",
      " 7   Cancer_Type            50000 non-null  object \n",
      " 8   Cancer_Stage           50000 non-null  object \n",
      " 9   Treatment_Cost_USD     50000 non-null  float64\n",
      " 10  Survival_Years         50000 non-null  float64\n",
      " 11  Target_Severity_Score  50000 non-null  int64  \n",
      "dtypes: float64(7), int64(1), object(4)\n",
      "memory usage: 4.6+ MB\n"
     ]
    }
   ],
   "source": [
    "df.info()"
   ]
  },
  {
   "cell_type": "code",
   "execution_count": 12,
   "id": "6b34a52a-dc71-40d1-a199-c0545b6eff22",
   "metadata": {},
   "outputs": [],
   "source": [
    "numerical_features = df.select_dtypes(include=['int64', 'float64']).columns\n",
    "\n",
    "numerical_features = numerical_features.drop(\"Target_Severity_Score\")\n",
    "\n",
    "X = df[numerical_features]\n",
    "y = df[\"Target_Severity_Score\"]\n"
   ]
  },
  {
   "cell_type": "code",
   "execution_count": 13,
   "id": "898fcf8e-be0f-4091-a7c8-140177c6ae77",
   "metadata": {},
   "outputs": [
    {
     "name": "stdout",
     "output_type": "stream",
     "text": [
      "Train/Test split done!\n",
      "X_train shape: (45000, 7)\n",
      "X_test shape: (5000, 7)\n"
     ]
    }
   ],
   "source": [
    "from sklearn.model_selection import train_test_split\n",
    "from sklearn.preprocessing import StandardScaler\n",
    "\n",
    "\n",
    "X_train, X_test, y_train, y_test = train_test_split(\n",
    "    X, y, test_size=0.1, random_state=42, stratify=y)  # stratify للحفاظ على توزيع ال-classes\n",
    "\n",
    "\n",
    "numeric_cols = X.select_dtypes(include=['int64','float64']).columns.tolist()\n",
    "scaler = StandardScaler()\n",
    "\n",
    "X_train_scaled = X_train.copy()\n",
    "X_test_scaled = X_test.copy()\n",
    "\n",
    "X_train_scaled[numeric_cols] = scaler.fit_transform(X_train[numeric_cols])\n",
    "X_test_scaled[numeric_cols] = scaler.transform(X_test[numeric_cols])\n",
    "\n",
    "print(\"Train/Test split done!\")\n",
    "print(\"X_train shape:\", X_train_scaled.shape)\n",
    "print(\"X_test shape:\", X_test_scaled.shape)\n"
   ]
  },
  {
   "cell_type": "code",
   "execution_count": 14,
   "id": "e14e2f72-a3f7-4f4b-b586-f40ad068f009",
   "metadata": {},
   "outputs": [
    {
     "name": "stdout",
     "output_type": "stream",
     "text": [
      "✅ Train/Test datasets saved successfully as CSV files!\n"
     ]
    }
   ],
   "source": [
    "X_train_scaled.to_csv(\"X_train.csv\", index=False)\n",
    "y_train.to_csv(\"y_train.csv\", index=False)\n",
    "\n",
    "X_test_scaled.to_csv(\"X_test.csv\", index=False)\n",
    "y_test.to_csv(\"y_test.csv\", index=False)\n",
    "\n",
    "print(\"✅ Train/Test datasets saved successfully as CSV files!\")\n"
   ]
  },
  {
   "cell_type": "code",
   "execution_count": 17,
   "id": "987f036e-c444-452f-a149-c4dfcdb679f6",
   "metadata": {},
   "outputs": [
    {
     "name": "stdout",
     "output_type": "stream",
     "text": [
      "✅ Model trained successfully!\n",
      "\n",
      "Accuracy: 0.9986\n",
      "\n",
      "Classification Report:\n",
      "               precision    recall  f1-score   support\n",
      "\n",
      "           0       1.00      0.99      0.99       259\n",
      "           1       1.00      1.00      1.00      3749\n",
      "           2       1.00      1.00      1.00       992\n",
      "\n",
      "    accuracy                           1.00      5000\n",
      "   macro avg       1.00      1.00      1.00      5000\n",
      "weighted avg       1.00      1.00      1.00      5000\n",
      "\n",
      "\n",
      "Confusion Matrix:\n",
      " [[ 256    3    0]\n",
      " [   0 3748    1]\n",
      " [   0    3  989]]\n"
     ]
    }
   ],
   "source": [
    "from sklearn.linear_model import LogisticRegression\n",
    "from sklearn.metrics import classification_report, confusion_matrix, accuracy_score\n",
    "\n",
    "# إنشاء النموذج\n",
    "log_model = LogisticRegression(\n",
    "    multi_class='multinomial',  # للتعامل مع أكثر من فئتين\n",
    "    solver='lbfgs',             # مناسب للـ multinomial\n",
    "    max_iter=1000,              # لضمان التقارب\n",
    "    random_state=42\n",
    ")\n",
    "\n",
    "# تدريب النموذج\n",
    "log_model.fit(X_train_scaled, y_train)\n",
    "\n",
    "# التنبؤ\n",
    "y_pred = log_model.predict(X_test_scaled)\n",
    "\n",
    "# تقييم النموذج\n",
    "print(\"✅ Model trained successfully!\\n\")\n",
    "print(\"Accuracy:\", accuracy_score(y_test, y_pred))\n",
    "print(\"\\nClassification Report:\\n\", classification_report(y_test, y_pred))\n",
    "print(\"\\nConfusion Matrix:\\n\", confusion_matrix(y_test, y_pred))\n"
   ]
  },
  {
   "cell_type": "code",
   "execution_count": 19,
   "id": "93578be2-ab5c-4fe9-ae73-462544d81dc3",
   "metadata": {},
   "outputs": [
    {
     "name": "stderr",
     "output_type": "stream",
     "text": [
      "C:\\Users\\DELL\\anaconda3\\envs\\tf\\lib\\site-packages\\xgboost\\core.py:158: UserWarning: [16:14:33] WARNING: C:\\buildkite-agent\\builds\\buildkite-windows-cpu-autoscaling-group-i-08cbc0333d8d4aae1-1\\xgboost\\xgboost-ci-windows\\src\\learner.cc:740: \n",
      "Parameters: { \"use_label_encoder\" } are not used.\n",
      "\n",
      "  warnings.warn(smsg, UserWarning)\n"
     ]
    },
    {
     "name": "stdout",
     "output_type": "stream",
     "text": [
      "✅ XGBoost Model Trained Successfully!\n",
      "\n",
      "🔹 Accuracy: 0.9746\n",
      "\n",
      "🔹 Classification Report:\n",
      "               precision    recall  f1-score   support\n",
      "\n",
      "           0       0.98      0.85      0.91       259\n",
      "           1       0.97      0.99      0.98      3749\n",
      "           2       0.99      0.93      0.96       992\n",
      "\n",
      "    accuracy                           0.97      5000\n",
      "   macro avg       0.98      0.92      0.95      5000\n",
      "weighted avg       0.97      0.97      0.97      5000\n",
      "\n",
      "\n",
      "🔹 Confusion Matrix:\n",
      " [[ 219   40    0]\n",
      " [   5 3730   14]\n",
      " [   0   68  924]]\n"
     ]
    }
   ],
   "source": [
    "from xgboost import XGBClassifier\n",
    "from sklearn.metrics import accuracy_score, classification_report, confusion_matrix\n",
    "\n",
    "# إنشاء النموذج\n",
    "xgb_model = XGBClassifier(\n",
    "    n_estimators=200,        # عدد الأشجار\n",
    "    learning_rate=0.1,       # معدل التعلم\n",
    "    max_depth=6,             # عمق كل شجرة\n",
    "    subsample=0.8,           # نسبة البيانات لكل شجرة (لتقليل overfitting)\n",
    "    colsample_bytree=0.8,    # نسبة الأعمدة لكل شجرة\n",
    "    objective='multi:softmax', # لأن عندنا أكثر من فئة\n",
    "    num_class=3,             # عدد الفئات (0, 1, 2)\n",
    "    random_state=42,\n",
    "    use_label_encoder=False, # لتجنب تحذير قديم\n",
    "    eval_metric='mlogloss'   # metric مناسبة للتصنيف المتعدد\n",
    ")\n",
    "\n",
    "# تدريب النموذج\n",
    "xgb_model.fit(X_train_scaled, y_train)\n",
    "\n",
    "# التنبؤ\n",
    "y_pred_xgb = xgb_model.predict(X_test_scaled)\n",
    "\n",
    "# التقييم\n",
    "print(\"✅ XGBoost Model Trained Successfully!\\n\")\n",
    "print(\"🔹 Accuracy:\", accuracy_score(y_test, y_pred_xgb))\n",
    "print(\"\\n🔹 Classification Report:\\n\", classification_report(y_test, y_pred_xgb))\n",
    "print(\"\\n🔹 Confusion Matrix:\\n\", confusion_matrix(y_test, y_pred_xgb))\n"
   ]
  },
  {
   "cell_type": "code",
   "execution_count": 20,
   "id": "5ebdcfc5-3549-4489-b89f-2df7849a42de",
   "metadata": {},
   "outputs": [
    {
     "name": "stdout",
     "output_type": "stream",
     "text": [
      "🔹 أول خمس قيم من التنبؤ:\n",
      "   Actual  Predicted\n",
      "0       1          1\n",
      "1       1          1\n",
      "2       1          1\n",
      "3       1          1\n",
      "4       0          0\n"
     ]
    }
   ],
   "source": [
    "import pandas as pd\n",
    "\n",
    "# إنشاء DataFrame للمقارنة بين القيم الفعلية والمتنبأ بها\n",
    "comparison = pd.DataFrame({\n",
    "    'Actual': y_test.values[:5],\n",
    "    'Predicted': y_pred[:5]\n",
    "})\n",
    "\n",
    "print(comparison)\n"
   ]
  },
  {
   "cell_type": "code",
   "execution_count": null,
   "id": "cb7ca628-ffbd-4210-9396-0b10803202fd",
   "metadata": {},
   "outputs": [],
   "source": []
  }
 ],
 "metadata": {
  "kernelspec": {
   "display_name": "tf",
   "language": "python",
   "name": "python3"
  },
  "language_info": {
   "codemirror_mode": {
    "name": "ipython",
    "version": 3
   },
   "file_extension": ".py",
   "mimetype": "text/x-python",
   "name": "python",
   "nbconvert_exporter": "python",
   "pygments_lexer": "ipython3",
   "version": "3.9.17"
  }
 },
 "nbformat": 4,
 "nbformat_minor": 5
}
